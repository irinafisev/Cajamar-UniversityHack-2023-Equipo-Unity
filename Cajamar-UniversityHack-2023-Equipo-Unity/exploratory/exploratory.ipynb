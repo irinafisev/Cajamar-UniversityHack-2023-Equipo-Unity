{
 "cells": [
  {
   "attachments": {},
   "cell_type": "markdown",
   "metadata": {},
   "source": [
    "# Carga de librerías y funciones"
   ]
  },
  {
   "cell_type": "code",
   "execution_count": 1,
   "metadata": {},
   "outputs": [],
   "source": [
    "import joblib\n",
    "import json\n",
    "import math\n",
    "\n",
    "import matplotlib.pyplot as plt\n",
    "import numpy as np\n",
    "import pandas as pd\n",
    "\n",
    "from sklearn.metrics import mean_squared_error\n",
    "\n",
    "from sklearn.cluster import KMeans\n",
    "from sklearn.decomposition import PCA\n",
    "\n",
    "from sklearn.model_selection import GridSearchCV\n",
    "from sklearn.svm import LinearSVR\n",
    "from sklearn.tree import DecisionTreeRegressor\n",
    "from sklearn.ensemble import RandomForestRegressor"
   ]
  },
  {
   "cell_type": "code",
   "execution_count": 2,
   "metadata": {},
   "outputs": [],
   "source": [
    "def get_filename(path):\n",
    "    # Obtenemos el nombre del fichero\n",
    "    filename = path.split(\"/\")[-1].split(\".\")[0]\n",
    "    return filename\n",
    "\n",
    "def train_model(x, y, model, param_grid):\n",
    "    # Modelos a probar\n",
    "    model_dict = {\n",
    "        \"svr\": LinearSVR(random_state=123),\n",
    "        \"decision_tree\": DecisionTreeRegressor(random_state=123),\n",
    "        \"random_forest\": RandomForestRegressor(random_state=123)\n",
    "    }\n",
    "    # Búsqueda de hiperparámetros\n",
    "    model_trained = GridSearchCV(\n",
    "        estimator = model_dict[model], \n",
    "        param_grid = param_grid, \n",
    "        n_jobs = -1, \n",
    "        cv = 5, \n",
    "        verbose = 2, \n",
    "        scoring = \"neg_root_mean_squared_error\",   \n",
    "    )\n",
    "    # Entrenamiento del modelo\n",
    "    model_trained.fit(x, y)\n",
    "    return model_trained"
   ]
  },
  {
   "attachments": {},
   "cell_type": "markdown",
   "metadata": {},
   "source": [
    "# Carga de datos"
   ]
  },
  {
   "cell_type": "code",
   "execution_count": 3,
   "metadata": {},
   "outputs": [
    {
     "data": {
      "text/html": [
       "<div>\n",
       "<style scoped>\n",
       "    .dataframe tbody tr th:only-of-type {\n",
       "        vertical-align: middle;\n",
       "    }\n",
       "\n",
       "    .dataframe tbody tr th {\n",
       "        vertical-align: top;\n",
       "    }\n",
       "\n",
       "    .dataframe thead th {\n",
       "        text-align: right;\n",
       "    }\n",
       "</style>\n",
       "<table border=\"1\" class=\"dataframe\">\n",
       "  <thead>\n",
       "    <tr style=\"text-align: right;\">\n",
       "      <th></th>\n",
       "      <th>ID_FINCA</th>\n",
       "      <th>ID_ZONA</th>\n",
       "      <th>ID_ESTACION</th>\n",
       "      <th>VARIEDAD</th>\n",
       "      <th>MODO</th>\n",
       "      <th>TIPO</th>\n",
       "      <th>COLOR</th>\n",
       "      <th>SUPERFICIE</th>\n",
       "      <th>TemperatureLocalDayAvg</th>\n",
       "      <th>TemperatureLocalNighttimeAvg</th>\n",
       "      <th>WindSpeedLocalDayAvg</th>\n",
       "    </tr>\n",
       "  </thead>\n",
       "  <tbody>\n",
       "    <tr>\n",
       "      <th>0</th>\n",
       "      <td>48626</td>\n",
       "      <td>302</td>\n",
       "      <td>13</td>\n",
       "      <td>32</td>\n",
       "      <td>2</td>\n",
       "      <td>0</td>\n",
       "      <td>1</td>\n",
       "      <td>0.977041</td>\n",
       "      <td>0.245761</td>\n",
       "      <td>0.396521</td>\n",
       "      <td>-0.197433</td>\n",
       "    </tr>\n",
       "    <tr>\n",
       "      <th>1</th>\n",
       "      <td>47921</td>\n",
       "      <td>302</td>\n",
       "      <td>13</td>\n",
       "      <td>32</td>\n",
       "      <td>2</td>\n",
       "      <td>0</td>\n",
       "      <td>1</td>\n",
       "      <td>1.625634</td>\n",
       "      <td>0.245761</td>\n",
       "      <td>0.396521</td>\n",
       "      <td>-0.197433</td>\n",
       "    </tr>\n",
       "    <tr>\n",
       "      <th>2</th>\n",
       "      <td>87611</td>\n",
       "      <td>602</td>\n",
       "      <td>14</td>\n",
       "      <td>81</td>\n",
       "      <td>1</td>\n",
       "      <td>0</td>\n",
       "      <td>1</td>\n",
       "      <td>0.806398</td>\n",
       "      <td>-0.859527</td>\n",
       "      <td>-0.492986</td>\n",
       "      <td>0.020158</td>\n",
       "    </tr>\n",
       "    <tr>\n",
       "      <th>3</th>\n",
       "      <td>12257</td>\n",
       "      <td>215</td>\n",
       "      <td>14</td>\n",
       "      <td>17</td>\n",
       "      <td>1</td>\n",
       "      <td>0</td>\n",
       "      <td>1</td>\n",
       "      <td>0.353163</td>\n",
       "      <td>-0.859527</td>\n",
       "      <td>-0.492986</td>\n",
       "      <td>0.020158</td>\n",
       "    </tr>\n",
       "    <tr>\n",
       "      <th>4</th>\n",
       "      <td>5696</td>\n",
       "      <td>919</td>\n",
       "      <td>14</td>\n",
       "      <td>59</td>\n",
       "      <td>1</td>\n",
       "      <td>0</td>\n",
       "      <td>1</td>\n",
       "      <td>1.657182</td>\n",
       "      <td>-0.859527</td>\n",
       "      <td>-0.492986</td>\n",
       "      <td>0.020158</td>\n",
       "    </tr>\n",
       "  </tbody>\n",
       "</table>\n",
       "</div>"
      ],
      "text/plain": [
       "  ID_FINCA ID_ZONA ID_ESTACION VARIEDAD MODO TIPO COLOR  SUPERFICIE  \\\n",
       "0    48626     302          13       32    2    0     1    0.977041   \n",
       "1    47921     302          13       32    2    0     1    1.625634   \n",
       "2    87611     602          14       81    1    0     1    0.806398   \n",
       "3    12257     215          14       17    1    0     1    0.353163   \n",
       "4     5696     919          14       59    1    0     1    1.657182   \n",
       "\n",
       "   TemperatureLocalDayAvg  TemperatureLocalNighttimeAvg  WindSpeedLocalDayAvg  \n",
       "0                0.245761                      0.396521             -0.197433  \n",
       "1                0.245761                      0.396521             -0.197433  \n",
       "2               -0.859527                     -0.492986              0.020158  \n",
       "3               -0.859527                     -0.492986              0.020158  \n",
       "4               -0.859527                     -0.492986              0.020158  "
      ]
     },
     "execution_count": 3,
     "metadata": {},
     "output_type": "execute_result"
    }
   ],
   "source": [
    "# Conjunto de datos a cargar\n",
    "train_path = input()\n",
    "\n",
    "# Obtenemos el nombre del fichero\n",
    "filename = get_filename(train_path)\n",
    "\n",
    "# Cargamos el conjunto de datos\n",
    "train = pd.read_csv(train_path, sep=\",\")\n",
    "\n",
    "# Obtenemos las variables categóricas del conjunto de datos\n",
    "cat_cols = [\"ID_FINCA\", \"ID_ZONA\", \"ID_ESTACION\", \"VARIEDAD\", \"MODO\", \"TIPO\", \"COLOR\"]\n",
    "cat_cols_train = [col for col in cat_cols if col in train.columns]\n",
    "\n",
    "# Cambiamos a categóricas las variables que son categóricas\n",
    "train[cat_cols_train] = train[cat_cols_train].astype('category')\n",
    "\n",
    "# División de los datos en variables predictoras y variable objetivo\n",
    "x_train = train[train.columns.drop([\"PRODUCCION\"])]\n",
    "y_train = train.PRODUCCION\n",
    "\n",
    "# Mostramos las primeras observaciones del conjunto de entrenamiento\n",
    "x_train.head(5)"
   ]
  },
  {
   "cell_type": "code",
   "execution_count": 4,
   "metadata": {},
   "outputs": [],
   "source": [
    "# Cargamos la tabla de resultados o la creamos si no existe\n",
    "try:\n",
    "    results = pd.read_csv(\"results.txt\", sep=\"\\t\")\n",
    "except:\n",
    "    results = pd.DataFrame(columns=[\"Model\", \"RMSE\"])"
   ]
  },
  {
   "cell_type": "code",
   "execution_count": 5,
   "metadata": {},
   "outputs": [],
   "source": [
    "# Carga de la media y desviación estándar para deshacer la normalización de la variable objetivo\n",
    "if \"log\" in filename:\n",
    "    mean, sd = pd.read_csv(\"mean_sd_log.txt\").PRODUCCION\n",
    "else:\n",
    "    mean, sd = pd.read_csv(\"mean_sd.txt\").PRODUCCION"
   ]
  },
  {
   "attachments": {},
   "cell_type": "markdown",
   "metadata": {},
   "source": [
    "# Entrenamiento"
   ]
  },
  {
   "attachments": {},
   "cell_type": "markdown",
   "metadata": {},
   "source": [
    "## LinearSVR"
   ]
  },
  {
   "cell_type": "code",
   "execution_count": null,
   "metadata": {},
   "outputs": [],
   "source": [
    "# Identificador del modelo\n",
    "model = \"svr\"\n",
    "\n",
    "# Parámetros a probar\n",
    "param_grid = {\n",
    "    'C': [0.1, 1, 10, 20, 50, 100],\n",
    "    'epsilon': [0.01, 0.1, 1, 10, 50, 100],\n",
    "    'loss': [\"epsilon_insensitive\", \"squared_epsilon_insensitive\"]\n",
    "}\n",
    "\n",
    "# Entrenamiento del modelo\n",
    "svr = train_model(x_train, y_train, model, param_grid)\n",
    "\n",
    "# Predicción del modelo sobre los datos de entrenamiento\n",
    "y_pred = svr.predict(x_train)\n",
    "\n",
    "# Deshacer la normalización\n",
    "y_train_t = y_train * sd + mean\n",
    "y_pred_t = y_pred * sd + mean\n",
    "\n",
    "if \"log\" in filename:\n",
    "    # Deshacer el logaritmo\n",
    "    y_train_t = np.e ** y_train_t\n",
    "    y_pred_t = np.e ** y_pred_t\n",
    "\n",
    "# Cálculo del RMSE sobre los datos de entrenamiento\n",
    "mse = mean_squared_error(y_train, y_pred)\n",
    "rmse = math.sqrt(mse)\n",
    "\n",
    "# Mostramos los resultados\n",
    "print(f\"\\nRMSE: {rmse}\\n\")\n",
    "\n",
    "# Guardamos los resultados\n",
    "new_results = pd.DataFrame.from_dict({\"Model\": [f\"{model}_{filename}\"], \"RMSE\": [np.round(rmse, 3)]})\n",
    "results = pd.concat([results, new_results])\n",
    "\n",
    "# Guardamos los hiperparámetros del mejor modelo\n",
    "with open(f\"params_{model}_{filename}.json\", \"w\") as outfile:\n",
    "    json.dump(svr.best_params_, outfile)"
   ]
  },
  {
   "attachments": {},
   "cell_type": "markdown",
   "metadata": {},
   "source": [
    "## Decision Tree Regressor"
   ]
  },
  {
   "cell_type": "code",
   "execution_count": null,
   "metadata": {},
   "outputs": [],
   "source": [
    "# Identificador del modelo\n",
    "model = \"decision_tree\"\n",
    "\n",
    "# Parámetros a probar\n",
    "param_grid = {\n",
    "    \"criterion\": [\"squared_error\", \"friedman_mse\", \"absolute_error\"],\n",
    "    'max_depth': [None, 3, 5],\n",
    "    'min_samples_split': [2, 5, 10],\n",
    "    'min_samples_leaf': [1, 2, 4]\n",
    "}\n",
    "\n",
    "# Entrenamiento del modelo\n",
    "dt = train_model(x_train, y_train, model, param_grid)\n",
    "\n",
    "# Predicción del modelo sobre los datos de entrenamiento\n",
    "y_pred = dt.predict(x_train)\n",
    "\n",
    "# Deshacer la normalización\n",
    "y_train_t = y_train * sd + mean\n",
    "y_pred_t = y_pred * sd + mean\n",
    "\n",
    "if \"log\" in filename:\n",
    "    # Deshacer el logaritmo\n",
    "    y_train_t = np.e ** y_train_t\n",
    "    y_pred_t = np.e ** y_pred_t\n",
    "\n",
    "# Cálculo del RMSE sobre los datos de entrenamiento\n",
    "mse = mean_squared_error(y_train, y_pred)\n",
    "rmse = math.sqrt(mse)\n",
    "\n",
    "# Mostramos los resultados\n",
    "print(f\"\\nRMSE: {rmse}\\n\")\n",
    "\n",
    "# Guardamos los resultados\n",
    "new_results = pd.DataFrame.from_dict({\"Model\": [f\"{model}_{filename}\"], \"RMSE\": [np.round(rmse, 3)]})\n",
    "results = pd.concat([results, new_results])\n",
    "\n",
    "# Guardamos los hiperparámetros del mejor modelo\n",
    "with open(f\"params_{model}_{filename}.json\", \"w\") as outfile:\n",
    "    json.dump(dt.best_params_, outfile)"
   ]
  },
  {
   "attachments": {},
   "cell_type": "markdown",
   "metadata": {},
   "source": [
    "## Random Forest Regressor"
   ]
  },
  {
   "cell_type": "code",
   "execution_count": null,
   "metadata": {},
   "outputs": [],
   "source": [
    "# Identificador del modelo\n",
    "model = \"random_forest\"\n",
    "\n",
    "# Parámetros a probar\n",
    "param_grid = {\n",
    "    'n_estimators': [10, 20, 50],\n",
    "    \"criterion\": [\"squared_error\", \"friedman_mse\", \"absolute_error\"],\n",
    "    'max_depth': [None, 3, 5],\n",
    "    'min_samples_split': [2, 5, 10],\n",
    "    'min_samples_leaf': [1, 2, 4]\n",
    "}\n",
    "\n",
    "# Entrenamiento del modelo\n",
    "rf = train_model(x_train, y_train, model, param_grid)\n",
    "\n",
    "# Predicción del modelo sobre los datos de entrenamiento\n",
    "y_pred = rf.predict(x_train)\n",
    "\n",
    "# Deshacer la normalización\n",
    "y_train_t = y_train * sd + mean\n",
    "y_pred_t = y_pred * sd + mean\n",
    "\n",
    "if \"log\" in filename:\n",
    "    # Deshacer el logaritmo\n",
    "    y_train_t = np.e ** y_train_t\n",
    "    y_pred_t = np.e ** y_pred_t\n",
    "\n",
    "# Cálculo del RMSE sobre los datos de entrenamiento\n",
    "mse = mean_squared_error(y_train, y_pred)\n",
    "rmse = math.sqrt(mse)\n",
    "\n",
    "# Mostramos los resultados\n",
    "print(f\"\\nRMSE: {rmse}\\n\")\n",
    "\n",
    "# Guardamos los resultados\n",
    "new_results = pd.DataFrame.from_dict({\"Model\": [f\"{model}_{filename}\"], \"RMSE\": [np.round(rmse, 3)]})\n",
    "results = pd.concat([results, new_results])\n",
    "\n",
    "# Guardamos los hiperparámetros del mejor modelo\n",
    "with open(f\"params_{model}_{filename}.json\", \"w\") as outfile:\n",
    "    json.dump(rf.best_params_, outfile)"
   ]
  },
  {
   "attachments": {},
   "cell_type": "markdown",
   "metadata": {},
   "source": [
    "# Resultados"
   ]
  },
  {
   "cell_type": "code",
   "execution_count": 6,
   "metadata": {},
   "outputs": [
    {
     "data": {
      "text/html": [
       "<div>\n",
       "<style scoped>\n",
       "    .dataframe tbody tr th:only-of-type {\n",
       "        vertical-align: middle;\n",
       "    }\n",
       "\n",
       "    .dataframe tbody tr th {\n",
       "        vertical-align: top;\n",
       "    }\n",
       "\n",
       "    .dataframe thead th {\n",
       "        text-align: right;\n",
       "    }\n",
       "</style>\n",
       "<table border=\"1\" class=\"dataframe\">\n",
       "  <thead>\n",
       "    <tr style=\"text-align: right;\">\n",
       "      <th></th>\n",
       "      <th>Model</th>\n",
       "      <th>RMSE</th>\n",
       "    </tr>\n",
       "  </thead>\n",
       "  <tbody>\n",
       "    <tr>\n",
       "      <th>0</th>\n",
       "      <td>random_forest_train_train_norm_tempwind</td>\n",
       "      <td>2857.655</td>\n",
       "    </tr>\n",
       "    <tr>\n",
       "      <th>1</th>\n",
       "      <td>random_forest_train_train_norm_temp</td>\n",
       "      <td>2905.609</td>\n",
       "    </tr>\n",
       "    <tr>\n",
       "      <th>2</th>\n",
       "      <td>random_forest_train_train_temp</td>\n",
       "      <td>2914.383</td>\n",
       "    </tr>\n",
       "    <tr>\n",
       "      <th>3</th>\n",
       "      <td>random_forest_train_train_norm_tempwindSINTIPO</td>\n",
       "      <td>2951.461</td>\n",
       "    </tr>\n",
       "    <tr>\n",
       "      <th>4</th>\n",
       "      <td>random_forest_train_train_norm_tempwindhum</td>\n",
       "      <td>2958.166</td>\n",
       "    </tr>\n",
       "    <tr>\n",
       "      <th>5</th>\n",
       "      <td>random_forest_dataset_final</td>\n",
       "      <td>2982.987</td>\n",
       "    </tr>\n",
       "    <tr>\n",
       "      <th>6</th>\n",
       "      <td>random_forest_trainetometeo_train_norm_simple</td>\n",
       "      <td>3071.922</td>\n",
       "    </tr>\n",
       "    <tr>\n",
       "      <th>7</th>\n",
       "      <td>random_forest_trainetometeo_train_norm_simple_...</td>\n",
       "      <td>3078.570</td>\n",
       "    </tr>\n",
       "    <tr>\n",
       "      <th>8</th>\n",
       "      <td>random_forest_trainetometeo_train_norm_simple_...</td>\n",
       "      <td>3096.070</td>\n",
       "    </tr>\n",
       "    <tr>\n",
       "      <th>9</th>\n",
       "      <td>random_forest_trainetometeo_train_log_norm_simple</td>\n",
       "      <td>3735.005</td>\n",
       "    </tr>\n",
       "    <tr>\n",
       "      <th>10</th>\n",
       "      <td>random_forest_trainetometeo_train_log_norm_non...</td>\n",
       "      <td>3793.667</td>\n",
       "    </tr>\n",
       "    <tr>\n",
       "      <th>11</th>\n",
       "      <td>decision_tree_train_train_base</td>\n",
       "      <td>4100.900</td>\n",
       "    </tr>\n",
       "    <tr>\n",
       "      <th>12</th>\n",
       "      <td>decision_tree_train_train_superficie</td>\n",
       "      <td>4238.547</td>\n",
       "    </tr>\n",
       "    <tr>\n",
       "      <th>13</th>\n",
       "      <td>decision_tree_train_train_logsuperficie</td>\n",
       "      <td>4238.547</td>\n",
       "    </tr>\n",
       "    <tr>\n",
       "      <th>14</th>\n",
       "      <td>random_forest_train_train_logsuperficie</td>\n",
       "      <td>4250.994</td>\n",
       "    </tr>\n",
       "    <tr>\n",
       "      <th>15</th>\n",
       "      <td>random_forest_train_train_superficie</td>\n",
       "      <td>4251.011</td>\n",
       "    </tr>\n",
       "    <tr>\n",
       "      <th>16</th>\n",
       "      <td>random_forest_train_train_base</td>\n",
       "      <td>4306.266</td>\n",
       "    </tr>\n",
       "    <tr>\n",
       "      <th>17</th>\n",
       "      <td>decision_tree_train_train_norm_tempwindSINTIPO</td>\n",
       "      <td>5095.316</td>\n",
       "    </tr>\n",
       "    <tr>\n",
       "      <th>18</th>\n",
       "      <td>decision_tree_train_train_norm_tempwind</td>\n",
       "      <td>5095.316</td>\n",
       "    </tr>\n",
       "    <tr>\n",
       "      <th>19</th>\n",
       "      <td>decision_tree_train_train_norm_temp</td>\n",
       "      <td>5105.081</td>\n",
       "    </tr>\n",
       "    <tr>\n",
       "      <th>20</th>\n",
       "      <td>decision_tree_train_train_temp</td>\n",
       "      <td>5105.081</td>\n",
       "    </tr>\n",
       "    <tr>\n",
       "      <th>21</th>\n",
       "      <td>decision_tree_trainetometeo_train_norm_simple_...</td>\n",
       "      <td>5145.393</td>\n",
       "    </tr>\n",
       "    <tr>\n",
       "      <th>22</th>\n",
       "      <td>decision_tree_trainetometeo_train_norm_simple</td>\n",
       "      <td>5220.433</td>\n",
       "    </tr>\n",
       "    <tr>\n",
       "      <th>23</th>\n",
       "      <td>decision_tree_trainetometeo_train_norm_simple_...</td>\n",
       "      <td>5220.433</td>\n",
       "    </tr>\n",
       "    <tr>\n",
       "      <th>24</th>\n",
       "      <td>decision_tree_dataset_final</td>\n",
       "      <td>5240.862</td>\n",
       "    </tr>\n",
       "    <tr>\n",
       "      <th>25</th>\n",
       "      <td>decision_tree_train_train_norm_tempwindhum</td>\n",
       "      <td>5251.538</td>\n",
       "    </tr>\n",
       "    <tr>\n",
       "      <th>26</th>\n",
       "      <td>decision_tree_trainetometeo_train_log_norm_non...</td>\n",
       "      <td>5491.615</td>\n",
       "    </tr>\n",
       "    <tr>\n",
       "      <th>27</th>\n",
       "      <td>decision_tree_trainetometeo_train_log_norm_simple</td>\n",
       "      <td>9348.122</td>\n",
       "    </tr>\n",
       "    <tr>\n",
       "      <th>28</th>\n",
       "      <td>svr_train_train_superficie</td>\n",
       "      <td>11403.607</td>\n",
       "    </tr>\n",
       "    <tr>\n",
       "      <th>29</th>\n",
       "      <td>svr_train_train_temp</td>\n",
       "      <td>12580.797</td>\n",
       "    </tr>\n",
       "    <tr>\n",
       "      <th>30</th>\n",
       "      <td>svr_train_train_logsuperficie</td>\n",
       "      <td>12947.203</td>\n",
       "    </tr>\n",
       "    <tr>\n",
       "      <th>31</th>\n",
       "      <td>svr_trainetometeo_train_norm_simple</td>\n",
       "      <td>13289.382</td>\n",
       "    </tr>\n",
       "    <tr>\n",
       "      <th>32</th>\n",
       "      <td>svr_trainetometeo_train_norm_simple_NO_TIPOCOLOR</td>\n",
       "      <td>13289.382</td>\n",
       "    </tr>\n",
       "    <tr>\n",
       "      <th>33</th>\n",
       "      <td>svr_train_train_norm_tempwindhum</td>\n",
       "      <td>13289.382</td>\n",
       "    </tr>\n",
       "    <tr>\n",
       "      <th>34</th>\n",
       "      <td>svr_trainetometeo_train_norm_simple_SINLOGSUPE...</td>\n",
       "      <td>13289.382</td>\n",
       "    </tr>\n",
       "    <tr>\n",
       "      <th>35</th>\n",
       "      <td>svr_train_train_norm_tempwindSINTIPO</td>\n",
       "      <td>13289.382</td>\n",
       "    </tr>\n",
       "    <tr>\n",
       "      <th>36</th>\n",
       "      <td>svr_train_train_norm_tempwind</td>\n",
       "      <td>13289.382</td>\n",
       "    </tr>\n",
       "    <tr>\n",
       "      <th>37</th>\n",
       "      <td>svr_dataset_final</td>\n",
       "      <td>13289.382</td>\n",
       "    </tr>\n",
       "    <tr>\n",
       "      <th>38</th>\n",
       "      <td>svr_train_train_norm_temp</td>\n",
       "      <td>13289.382</td>\n",
       "    </tr>\n",
       "    <tr>\n",
       "      <th>39</th>\n",
       "      <td>svr_train_train_base</td>\n",
       "      <td>13333.296</td>\n",
       "    </tr>\n",
       "    <tr>\n",
       "      <th>40</th>\n",
       "      <td>svr_trainetometeo_train_log_norm_noncorr</td>\n",
       "      <td>14166.787</td>\n",
       "    </tr>\n",
       "    <tr>\n",
       "      <th>41</th>\n",
       "      <td>svr_trainetometeo_train_log_norm_simple</td>\n",
       "      <td>14166.787</td>\n",
       "    </tr>\n",
       "  </tbody>\n",
       "</table>\n",
       "</div>"
      ],
      "text/plain": [
       "                                                Model       RMSE\n",
       "0             random_forest_train_train_norm_tempwind   2857.655\n",
       "1                 random_forest_train_train_norm_temp   2905.609\n",
       "2                      random_forest_train_train_temp   2914.383\n",
       "3      random_forest_train_train_norm_tempwindSINTIPO   2951.461\n",
       "4          random_forest_train_train_norm_tempwindhum   2958.166\n",
       "5                         random_forest_dataset_final   2982.987\n",
       "6       random_forest_trainetometeo_train_norm_simple   3071.922\n",
       "7   random_forest_trainetometeo_train_norm_simple_...   3078.570\n",
       "8   random_forest_trainetometeo_train_norm_simple_...   3096.070\n",
       "9   random_forest_trainetometeo_train_log_norm_simple   3735.005\n",
       "10  random_forest_trainetometeo_train_log_norm_non...   3793.667\n",
       "11                     decision_tree_train_train_base   4100.900\n",
       "12               decision_tree_train_train_superficie   4238.547\n",
       "13            decision_tree_train_train_logsuperficie   4238.547\n",
       "14            random_forest_train_train_logsuperficie   4250.994\n",
       "15               random_forest_train_train_superficie   4251.011\n",
       "16                     random_forest_train_train_base   4306.266\n",
       "17     decision_tree_train_train_norm_tempwindSINTIPO   5095.316\n",
       "18            decision_tree_train_train_norm_tempwind   5095.316\n",
       "19                decision_tree_train_train_norm_temp   5105.081\n",
       "20                     decision_tree_train_train_temp   5105.081\n",
       "21  decision_tree_trainetometeo_train_norm_simple_...   5145.393\n",
       "22      decision_tree_trainetometeo_train_norm_simple   5220.433\n",
       "23  decision_tree_trainetometeo_train_norm_simple_...   5220.433\n",
       "24                        decision_tree_dataset_final   5240.862\n",
       "25         decision_tree_train_train_norm_tempwindhum   5251.538\n",
       "26  decision_tree_trainetometeo_train_log_norm_non...   5491.615\n",
       "27  decision_tree_trainetometeo_train_log_norm_simple   9348.122\n",
       "28                         svr_train_train_superficie  11403.607\n",
       "29                               svr_train_train_temp  12580.797\n",
       "30                      svr_train_train_logsuperficie  12947.203\n",
       "31                svr_trainetometeo_train_norm_simple  13289.382\n",
       "32   svr_trainetometeo_train_norm_simple_NO_TIPOCOLOR  13289.382\n",
       "33                   svr_train_train_norm_tempwindhum  13289.382\n",
       "34  svr_trainetometeo_train_norm_simple_SINLOGSUPE...  13289.382\n",
       "35               svr_train_train_norm_tempwindSINTIPO  13289.382\n",
       "36                      svr_train_train_norm_tempwind  13289.382\n",
       "37                                  svr_dataset_final  13289.382\n",
       "38                          svr_train_train_norm_temp  13289.382\n",
       "39                               svr_train_train_base  13333.296\n",
       "40           svr_trainetometeo_train_log_norm_noncorr  14166.787\n",
       "41            svr_trainetometeo_train_log_norm_simple  14166.787"
      ]
     },
     "execution_count": 6,
     "metadata": {},
     "output_type": "execute_result"
    }
   ],
   "source": [
    "# Ordenamos los resultados de menor a mayor RMSE\n",
    "results = results.sort_values(\"RMSE\").reset_index(inplace=False, drop=True)\n",
    "# Guardamos los resultados en un txt\n",
    "results.to_csv(\"results.txt\", sep=\"\\t\", index=False)\n",
    "# Mostramos los resultados\n",
    "results"
   ]
  },
  {
   "attachments": {},
   "cell_type": "markdown",
   "metadata": {},
   "source": [
    "# Criterios aplicados para la selección del modelo"
   ]
  },
  {
   "cell_type": "code",
   "execution_count": 7,
   "metadata": {},
   "outputs": [
    {
     "data": {
      "text/plain": [
       "['random_forest_train_train_norm_tempwind.joblib']"
      ]
     },
     "execution_count": 7,
     "metadata": {},
     "output_type": "execute_result"
    }
   ],
   "source": [
    "# Tipo de modelo\n",
    "model = \"random_forest\"\n",
    "\n",
    "# Cargamos los parámetros guardados del mejor modelo\n",
    "with open(f\"params_{model}_{filename}.json\", \"r\") as f:\n",
    "    params = json.load(f)\n",
    "\n",
    "# Instanciamos el modelo Random Forest Regressor\n",
    "regressor = RandomForestRegressor(**params, random_state=123)\n",
    "\n",
    "# Entrenamos el modelo\n",
    "regressor.fit(x_train, y_train)\n",
    "\n",
    "# Guardamos el modelo en un fichero joblib\n",
    "joblib.dump(regressor, f\"{model}_{filename}.joblib\")"
   ]
  },
  {
   "cell_type": "code",
   "execution_count": 8,
   "metadata": {},
   "outputs": [
    {
     "name": "stdout",
     "output_type": "stream",
     "text": [
      "1. SUPERFICIE (0.576766)\n",
      "2. VARIEDAD (0.090024)\n",
      "3. ID_FINCA (0.078370)\n",
      "4. WindSpeedLocalDayAvg (0.058552)\n",
      "5. ID_ZONA (0.041501)\n",
      "6. TemperatureLocalNighttimeAvg (0.039951)\n",
      "7. MODO (0.039357)\n",
      "8. TemperatureLocalDayAvg (0.036522)\n",
      "9. ID_ESTACION (0.032084)\n",
      "10. COLOR (0.005723)\n",
      "11. TIPO (0.001150)\n"
     ]
    }
   ],
   "source": [
    "# Ordena la importancia de las variables de mayor a menor\n",
    "indices = np.argsort(regressor.feature_importances_)[::-1]\n",
    "\n",
    "# Muestra la importancia de las variables\n",
    "for f in range(x_train.shape[1]):\n",
    "    print(\"%d. %s (%f)\" % (f + 1, pd.Series(x_train.columns).iloc[indices].reset_index(inplace=False, drop=True)[f], \n",
    "                           regressor.feature_importances_[indices[f]]))"
   ]
  },
  {
   "cell_type": "code",
   "execution_count": 9,
   "metadata": {},
   "outputs": [
    {
     "data": {
      "image/png": "[encoded data removed]",
      "text/plain": [
       "<Figure size 720x360 with 1 Axes>"
      ]
     },
     "metadata": {
      "needs_background": "light"
     },
     "output_type": "display_data"
    }
   ],
   "source": [
    "# Visualizar la importancia de las variables en un gráfico de barras\n",
    "plt.figure(figsize=(10,5))\n",
    "plt.title(\"Importancia de las variables en el modelo RF\")\n",
    "plt.bar(range(x_train.shape[1]), regressor.feature_importances_[indices])\n",
    "plt.xticks(range(x_train.shape[1]), pd.Series(x_train.columns).iloc[indices], rotation=90)\n",
    "plt.xlabel(\"Índice de la variable\")\n",
    "plt.ylabel(\"Importancia relativa\")\n",
    "plt.show()"
   ]
  },
  {
   "cell_type": "markdown",
   "metadata": {},
   "source": [
    "# Modelos locales haciendo clusterización con k-Means y PCA"
   ]
  },
  {
   "cell_type": "markdown",
   "metadata": {},
   "source": [
    "Tras visualizar los datos de las dos componentes principales de la PCA, se observa que los datos están agrupados en 2 clusters. Se realiza una agrupación de dichos clusters utilizando k-Means y se entrenan modelos locales para ambos clusters. Puesto que los mejores resultados obtenidos han dicho con los datos que contienen las variables de temperatura y velocidad del viento, se entrenan dos Random Forest a cada una de las agrupaciones."
   ]
  },
  {
   "cell_type": "code",
   "execution_count": 35,
   "metadata": {},
   "outputs": [],
   "source": [
    "pca_train_path = input() # data_pruebas/trainetometeo_train_norm_simple.txt\n",
    "best_df_path = input() # data_pruebas/trainetometeo_train_log_norm_corr2.txt\n",
    "pca_test_path = input() # data_pruebas/trainetometeo_test_norm_simple.txt\n",
    "filename = get_filename(pca_train_path)\n",
    "\n",
    "df = pd.read_csv(pca_train_path, sep=\",\")\n",
    "best_df = pd.read_csv(pca_train_path, sep=\",\")\n",
    "pca_test_df = pd.read_csv(pca_test_path, sep=\",\")\n",
    "\n",
    "df_train = df.iloc[:,0:9]\n",
    "df_meteor = df.iloc[:,10:30]\n",
    "\n",
    "y = df['PRODUCCION']"
   ]
  },
  {
   "cell_type": "code",
   "execution_count": 36,
   "metadata": {},
   "outputs": [
    {
     "name": "stdout",
     "output_type": "stream",
     "text": [
      "[0.41481877 0.31254788 0.16474754 0.10788582]\n"
     ]
    },
    {
     "data": {
      "image/png": "[encoded data removed]",
      "text/plain": [
       "<Figure size 432x288 with 1 Axes>"
      ]
     },
     "metadata": {
      "needs_background": "light"
     },
     "output_type": "display_data"
    }
   ],
   "source": [
    "pca = PCA()\n",
    "fit = pca.fit_transform(df_meteor)\n",
    "print(pca.explained_variance_ratio_)\n",
    "\n",
    "plt.plot(np.cumsum(pca.explained_variance_ratio_))\n",
    "plt.axhline(y=0.95, color='r', linestyle='-')\n",
    "plt.xlabel('Number of components')\n",
    "plt.ylabel('Cumulative explained variance')\n",
    "plt.show()"
   ]
  },
  {
   "cell_type": "code",
   "execution_count": 37,
   "metadata": {},
   "outputs": [
    {
     "data": {
      "image/png": "[encoded data removed]",
      "text/plain": [
       "<Figure size 432x288 with 1 Axes>"
      ]
     },
     "metadata": {
      "needs_background": "light"
     },
     "output_type": "display_data"
    }
   ],
   "source": [
    "pca = PCA(n_components=3)\n",
    "fit = pca.fit_transform(df_meteor)\n",
    "\n",
    "Nc = range(1, 20)\n",
    "score = []\n",
    "\n",
    "for k in Nc:\n",
    "    # Bucle de llamada al método fit()\n",
    "    km = KMeans(n_clusters=k, init='k-means++', n_init=10, max_iter=100, random_state=42)\n",
    "    km.fit(fit)\n",
    "    score.append(km.inertia_)\n",
    "        \n",
    "# Este código visualiza la curva\n",
    "plt.plot(Nc,score)\n",
    "plt.xlabel('Number of Clusters')\n",
    "plt.ylabel('Score')\n",
    "plt.title('Elbow Curve')\n",
    "plt.show()"
   ]
  },
  {
   "cell_type": "code",
   "execution_count": 38,
   "metadata": {},
   "outputs": [],
   "source": [
    "kmeans = KMeans(n_clusters=2) # introduce un valor de K\n",
    "kmeans.fit(fit) # Introduce el dataset transformado y calcula el modelo\n",
    "y_kmeans = kmeans.predict(fit) # etiquetas de pertenencia a un cluster"
   ]
  },
  {
   "cell_type": "code",
   "execution_count": 39,
   "metadata": {},
   "outputs": [
    {
     "data": {
      "image/png": "[encoded data removed]",
      "text/plain": [
       "<Figure size 432x288 with 1 Axes>"
      ]
     },
     "metadata": {
      "needs_background": "light"
     },
     "output_type": "display_data"
    }
   ],
   "source": [
    "#Hacemos un nuevo DataFrame con dos columnas, el nombre de la compañía y la etiqueta del cluster correspondiente.\n",
    "#Imprimimos la lista\n",
    "newframe_train=pd.DataFrame({\"comp\":y, \"class\":y_kmeans})  #He llamado 'companies' a la lista de compañías que has debido crear\n",
    "                                                            #en la primera caja de código de este notebook\n",
    "\n",
    "plt.scatter(fit[:, 0], fit[:, 1], c=y_kmeans, s=50, cmap='viridis') #He llamado 'dtnorm' al dataset  transformado por el PCA\n",
    "centers = kmeans.cluster_centers_\n",
    "plt.scatter(centers[:, 0], centers[:, 1], c='black', s=200, alpha=0.5)\n",
    "plt.show()"
   ]
  },
  {
   "cell_type": "code",
   "execution_count": 40,
   "metadata": {},
   "outputs": [
    {
     "name": "stdout",
     "output_type": "stream",
     "text": [
      "(3834, 14) (2428, 14)\n"
     ]
    }
   ],
   "source": [
    "newframe_train = newframe_train.sort_index()\n",
    "best_df['CLASS'] = newframe_train['class']\n",
    "best_df\n",
    "\n",
    "train_class_0 = best_df[best_df['CLASS'] == 0]\n",
    "y_class_0 = train_class_0.pop('PRODUCCION')\n",
    "\n",
    "train_class_1 = best_df[(best_df['CLASS'] == 1)]\n",
    "y_class_1 = train_class_1.pop('PRODUCCION')\n",
    "\n",
    "print(train_class_0.shape, train_class_1.shape)"
   ]
  },
  {
   "cell_type": "code",
   "execution_count": 42,
   "metadata": {},
   "outputs": [],
   "source": [
    "test = pca_test_df.iloc[:,0:9]\n",
    "\n",
    "test_meteor = pca_test_df.iloc[:,10:30]\n",
    "\n",
    "pca_test = pca.transform(test_meteor)\n",
    "\n",
    "y_kmeans = kmeans.predict(pca_test) #etiquetas de pertenencia a un cluster\n",
    "\n",
    "#Hacemos un nuevo DataFrame con dos columnas, el nombre de la compañía y la etiqueta del cluster correspondiente.\n",
    "#Imprimimos la lista\n",
    "newframe_test=pd.DataFrame({\"class\":y_kmeans})  #He llamado 'companies' a la lista de compañías que has debido crear\n",
    "                                                            #en la primera caja de código de este notebook\n",
    "\n",
    "newframe_test = newframe_test.sort_index()\n",
    "best_df['CLASS'] = newframe_test['class']\n",
    "best_df.drop(\"PRODUCCION\", axis=1, inplace=True)\n",
    "\n",
    "test_class_0 = best_df[best_df['CLASS'] == 0]\n",
    "test_class_1 = best_df[(best_df['CLASS'] == 1)]"
   ]
  },
  {
   "cell_type": "code",
   "execution_count": 45,
   "metadata": {},
   "outputs": [
    {
     "name": "stdout",
     "output_type": "stream",
     "text": [
      "Fitting 5 folds for each of 243 candidates, totalling 1215 fits\n",
      "Fitting 5 folds for each of 243 candidates, totalling 1215 fits\n",
      "\n",
      "RMSE class 0: 0.6020782645006613\n",
      "\n",
      "\n",
      "RMSE class 1: 0.6012465806710673\n",
      "\n"
     ]
    }
   ],
   "source": [
    "model = \"random_forest\"\n",
    "\n",
    "param_grid = {\n",
    "    'n_estimators': [10, 20, 50],\n",
    "    \"criterion\": [\"squared_error\", \"friedman_mse\", \"absolute_error\"],\n",
    "    'max_depth': [None, 3, 5],\n",
    "    'min_samples_split': [2, 5, 10],\n",
    "    'min_samples_leaf': [1, 2, 4]\n",
    "}\n",
    "\n",
    "rf_class_0 = train_model(train_class_0, y_class_0, model, param_grid)\n",
    "rf_class_1 = train_model(train_class_1, y_class_1, model, param_grid)\n",
    "\n",
    "print(f\"\\nRMSE class 0: {-rf_class_0.best_score_}\\n\")\n",
    "print(f\"\\nRMSE class 1: {-rf_class_1.best_score_}\\n\")"
   ]
  },
  {
   "cell_type": "code",
   "execution_count": 48,
   "metadata": {},
   "outputs": [
    {
     "name": "stdout",
     "output_type": "stream",
     "text": [
      "\n",
      "RMSE: 3521.914952833588\n",
      "\n"
     ]
    }
   ],
   "source": [
    "y_pred_class_0 = rf_class_0.predict(train_class_0)\n",
    "y_pred_class_1 = rf_class_1.predict(train_class_1)\n",
    "\n",
    "y_pred = np.concatenate([y_pred_class_0, y_pred_class_1 ])\n",
    "y = np.concatenate([y_class_0, y_class_1])\n",
    "\n",
    "mean, sd = pd.read_csv(\"mean_sd.txt\").PRODUCCION\n",
    "\n",
    "# Deshacer la normalización\n",
    "y_pred = y_pred * sd + mean\n",
    "y = y * sd + mean\n",
    "\n",
    "mse = mean_squared_error(y, y_pred)\n",
    "\n",
    "rmse = math.sqrt(mse)\n",
    "\n",
    "print(f\"\\nRMSE: {rmse}\\n\")"
   ]
  }
 ],
 "metadata": {
  "kernelspec": {
   "display_name": "Python 3",
   "language": "python",
   "name": "python3"
  },
  "language_info": {
   "codemirror_mode": {
    "name": "ipython",
    "version": 3
   },
   "file_extension": ".py",
   "mimetype": "text/x-python",
   "name": "python",
   "nbconvert_exporter": "python",
   "pygments_lexer": "ipython3",
   "version": "3.9.13"
  },
  "orig_nbformat": 4
 },
 "nbformat": 4,
 "nbformat_minor": 2
}
