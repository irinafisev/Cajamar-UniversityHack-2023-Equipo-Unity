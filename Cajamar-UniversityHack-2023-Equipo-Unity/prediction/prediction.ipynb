{
 "cells": [
  {
   "attachments": {},
   "cell_type": "markdown",
   "metadata": {},
   "source": [
    "# Carga de librerías y funciones"
   ]
  },
  {
   "cell_type": "code",
   "execution_count": 1,
   "metadata": {},
   "outputs": [],
   "source": [
    "import json\n",
    "import joblib\n",
    "\n",
    "import numpy as np\n",
    "import pandas as pd\n",
    "\n",
    "from sklearn.ensemble import RandomForestRegressor"
   ]
  },
  {
   "cell_type": "code",
   "execution_count": 2,
   "metadata": {},
   "outputs": [],
   "source": [
    "def get_filename(path):\n",
    "    # Obtenemos el nombre del fichero\n",
    "    filename = path.split(\"/\")[-1].split(\".\")[0]\n",
    "    return filename"
   ]
  },
  {
   "attachments": {},
   "cell_type": "markdown",
   "metadata": {},
   "source": [
    "# Carga de datos"
   ]
  },
  {
   "cell_type": "code",
   "execution_count": 3,
   "metadata": {},
   "outputs": [
    {
     "data": {
      "text/html": [
       "<div>\n",
       "<style scoped>\n",
       "    .dataframe tbody tr th:only-of-type {\n",
       "        vertical-align: middle;\n",
       "    }\n",
       "\n",
       "    .dataframe tbody tr th {\n",
       "        vertical-align: top;\n",
       "    }\n",
       "\n",
       "    .dataframe thead th {\n",
       "        text-align: right;\n",
       "    }\n",
       "</style>\n",
       "<table border=\"1\" class=\"dataframe\">\n",
       "  <thead>\n",
       "    <tr style=\"text-align: right;\">\n",
       "      <th></th>\n",
       "      <th>ID_FINCA</th>\n",
       "      <th>ID_ZONA</th>\n",
       "      <th>ID_ESTACION</th>\n",
       "      <th>VARIEDAD</th>\n",
       "      <th>MODO</th>\n",
       "      <th>TIPO</th>\n",
       "      <th>COLOR</th>\n",
       "      <th>SUPERFICIE</th>\n",
       "      <th>TemperatureLocalDayAvg</th>\n",
       "      <th>TemperatureLocalNighttimeAvg</th>\n",
       "      <th>WindSpeedLocalDayAvg</th>\n",
       "    </tr>\n",
       "  </thead>\n",
       "  <tbody>\n",
       "    <tr>\n",
       "      <th>0</th>\n",
       "      <td>48626</td>\n",
       "      <td>302</td>\n",
       "      <td>13</td>\n",
       "      <td>32</td>\n",
       "      <td>2</td>\n",
       "      <td>0</td>\n",
       "      <td>1</td>\n",
       "      <td>0.977041</td>\n",
       "      <td>0.245761</td>\n",
       "      <td>0.396521</td>\n",
       "      <td>-0.197433</td>\n",
       "    </tr>\n",
       "    <tr>\n",
       "      <th>1</th>\n",
       "      <td>47921</td>\n",
       "      <td>302</td>\n",
       "      <td>13</td>\n",
       "      <td>32</td>\n",
       "      <td>2</td>\n",
       "      <td>0</td>\n",
       "      <td>1</td>\n",
       "      <td>1.625634</td>\n",
       "      <td>0.245761</td>\n",
       "      <td>0.396521</td>\n",
       "      <td>-0.197433</td>\n",
       "    </tr>\n",
       "    <tr>\n",
       "      <th>2</th>\n",
       "      <td>87611</td>\n",
       "      <td>602</td>\n",
       "      <td>14</td>\n",
       "      <td>81</td>\n",
       "      <td>1</td>\n",
       "      <td>0</td>\n",
       "      <td>1</td>\n",
       "      <td>0.806398</td>\n",
       "      <td>-0.859527</td>\n",
       "      <td>-0.492986</td>\n",
       "      <td>0.020158</td>\n",
       "    </tr>\n",
       "    <tr>\n",
       "      <th>3</th>\n",
       "      <td>12257</td>\n",
       "      <td>215</td>\n",
       "      <td>14</td>\n",
       "      <td>17</td>\n",
       "      <td>1</td>\n",
       "      <td>0</td>\n",
       "      <td>1</td>\n",
       "      <td>0.353163</td>\n",
       "      <td>-0.859527</td>\n",
       "      <td>-0.492986</td>\n",
       "      <td>0.020158</td>\n",
       "    </tr>\n",
       "    <tr>\n",
       "      <th>4</th>\n",
       "      <td>5696</td>\n",
       "      <td>919</td>\n",
       "      <td>14</td>\n",
       "      <td>59</td>\n",
       "      <td>1</td>\n",
       "      <td>0</td>\n",
       "      <td>1</td>\n",
       "      <td>1.657182</td>\n",
       "      <td>-0.859527</td>\n",
       "      <td>-0.492986</td>\n",
       "      <td>0.020158</td>\n",
       "    </tr>\n",
       "  </tbody>\n",
       "</table>\n",
       "</div>"
      ],
      "text/plain": [
       "  ID_FINCA ID_ZONA ID_ESTACION VARIEDAD MODO TIPO COLOR  SUPERFICIE  \\\n",
       "0    48626     302          13       32    2    0     1    0.977041   \n",
       "1    47921     302          13       32    2    0     1    1.625634   \n",
       "2    87611     602          14       81    1    0     1    0.806398   \n",
       "3    12257     215          14       17    1    0     1    0.353163   \n",
       "4     5696     919          14       59    1    0     1    1.657182   \n",
       "\n",
       "   TemperatureLocalDayAvg  TemperatureLocalNighttimeAvg  WindSpeedLocalDayAvg  \n",
       "0                0.245761                      0.396521             -0.197433  \n",
       "1                0.245761                      0.396521             -0.197433  \n",
       "2               -0.859527                     -0.492986              0.020158  \n",
       "3               -0.859527                     -0.492986              0.020158  \n",
       "4               -0.859527                     -0.492986              0.020158  "
      ]
     },
     "execution_count": 3,
     "metadata": {},
     "output_type": "execute_result"
    }
   ],
   "source": [
    "# Ruta de los conjuntos de datos de entrenamiento y test\n",
    "train_path = input(\"Conjunto de train: \")\n",
    "test_path = input(\"Conjunto de test: \")\n",
    "\n",
    "# Obtenemos el nombre del fichero de entrenamiento\n",
    "filename = get_filename(train_path)\n",
    "\n",
    "# Cargamos los conjuntos de datos\n",
    "train = pd.read_csv(train_path, sep=\",\")\n",
    "test = pd.read_csv(test_path, sep=\",\")\n",
    "\n",
    "# Obtenemos las variables categóricas del conjunto de datos\n",
    "cat_cols = [\"ID_FINCA\", \"ID_ZONA\", \"ID_ESTACION\", \"VARIEDAD\", \"MODO\", \"TIPO\", \"COLOR\"]\n",
    "cat_cols_train = [col for col in cat_cols if col in train.columns]\n",
    "\n",
    "# Cambiamos a categóricas las variables que son categóricas\n",
    "train[cat_cols_train] = train[cat_cols_train].astype('category')\n",
    "test[cat_cols_train] = test[cat_cols_train].astype('category')\n",
    "\n",
    "# División de los datos en variables predictoras y variable objetivo\n",
    "x_train = train[train.columns.drop([\"PRODUCCION\"])]\n",
    "y_train = train.PRODUCCION\n",
    "x_test = test[test.columns.drop([\"PRODUCCION\"])]\n",
    "\n",
    "# Mostramos las primeras observaciones del conjunto de entrenamiento\n",
    "x_train.head(5)"
   ]
  },
  {
   "cell_type": "code",
   "execution_count": 4,
   "metadata": {},
   "outputs": [],
   "source": [
    "# Cargamos la media y la desviación estándar para deshacer la normalización de la predicción\n",
    "mean_sd_df = pd.read_csv(\"mean_sd.txt\")\n",
    "mean, sd = mean_sd_df.PRODUCCION"
   ]
  },
  {
   "attachments": {},
   "cell_type": "markdown",
   "metadata": {},
   "source": [
    "# Entrenamiento del modelo\n",
    "\n",
    "En nuestro caso hemos seleccionado como mejor modelo un RandomForestRegressor."
   ]
  },
  {
   "cell_type": "code",
   "execution_count": 5,
   "metadata": {},
   "outputs": [
    {
     "data": {
      "text/plain": [
       "['random_forest_train_train_norm_tempwind.joblib']"
      ]
     },
     "execution_count": 5,
     "metadata": {},
     "output_type": "execute_result"
    }
   ],
   "source": [
    "# Tipo de modelo\n",
    "model = \"random_forest\"\n",
    "\n",
    "# Cargamos los parámetros guardados del mejor modelo\n",
    "with open(f\"params_{model}_{filename}.json\", \"r\") as f:\n",
    "    params = json.load(f)\n",
    "\n",
    "# Instanciamos el modelo Random Forest Regressor\n",
    "regressor = RandomForestRegressor(**params, random_state=123)\n",
    "\n",
    "# Entrenamos el modelo\n",
    "regressor.fit(x_train, y_train)\n",
    "\n",
    "# Guardamos el modelo en un fichero joblib\n",
    "joblib.dump(regressor, f\"{model}_{filename}.joblib\")"
   ]
  },
  {
   "attachments": {},
   "cell_type": "markdown",
   "metadata": {},
   "source": [
    "# Predicción"
   ]
  },
  {
   "cell_type": "code",
   "execution_count": 6,
   "metadata": {},
   "outputs": [],
   "source": [
    "# Predecimos con el modelo\n",
    "y_pred = regressor.predict(x_test)\n",
    "\n",
    "# Deshacemos la normalización de la variable predicha\n",
    "y_pred_t = y_pred * sd + mean"
   ]
  },
  {
   "attachments": {},
   "cell_type": "markdown",
   "metadata": {},
   "source": [
    "# Generación del dataset de entrega"
   ]
  },
  {
   "cell_type": "code",
   "execution_count": 7,
   "metadata": {},
   "outputs": [
    {
     "data": {
      "text/html": [
       "<div>\n",
       "<style scoped>\n",
       "    .dataframe tbody tr th:only-of-type {\n",
       "        vertical-align: middle;\n",
       "    }\n",
       "\n",
       "    .dataframe tbody tr th {\n",
       "        vertical-align: top;\n",
       "    }\n",
       "\n",
       "    .dataframe thead th {\n",
       "        text-align: right;\n",
       "    }\n",
       "</style>\n",
       "<table border=\"1\" class=\"dataframe\">\n",
       "  <thead>\n",
       "    <tr style=\"text-align: right;\">\n",
       "      <th></th>\n",
       "      <th>ID_FINCA</th>\n",
       "      <th>VARIEDAD</th>\n",
       "      <th>MODO</th>\n",
       "      <th>TIPO</th>\n",
       "      <th>COLOR</th>\n",
       "      <th>SUPERFICIE</th>\n",
       "      <th>PRODUCCION</th>\n",
       "    </tr>\n",
       "  </thead>\n",
       "  <tbody>\n",
       "    <tr>\n",
       "      <th>0</th>\n",
       "      <td>439</td>\n",
       "      <td>9</td>\n",
       "      <td>2</td>\n",
       "      <td>0</td>\n",
       "      <td>0</td>\n",
       "      <td>1.0800</td>\n",
       "      <td>3906.62</td>\n",
       "    </tr>\n",
       "    <tr>\n",
       "      <th>1</th>\n",
       "      <td>447</td>\n",
       "      <td>40</td>\n",
       "      <td>2</td>\n",
       "      <td>0</td>\n",
       "      <td>1</td>\n",
       "      <td>0.4694</td>\n",
       "      <td>2309.71</td>\n",
       "    </tr>\n",
       "    <tr>\n",
       "      <th>2</th>\n",
       "      <td>523</td>\n",
       "      <td>32</td>\n",
       "      <td>2</td>\n",
       "      <td>0</td>\n",
       "      <td>1</td>\n",
       "      <td>0.6478</td>\n",
       "      <td>1407.79</td>\n",
       "    </tr>\n",
       "    <tr>\n",
       "      <th>3</th>\n",
       "      <td>702</td>\n",
       "      <td>59</td>\n",
       "      <td>2</td>\n",
       "      <td>0</td>\n",
       "      <td>1</td>\n",
       "      <td>1.1331</td>\n",
       "      <td>4613.61</td>\n",
       "    </tr>\n",
       "    <tr>\n",
       "      <th>4</th>\n",
       "      <td>797</td>\n",
       "      <td>59</td>\n",
       "      <td>1</td>\n",
       "      <td>0</td>\n",
       "      <td>1</td>\n",
       "      <td>7.5143</td>\n",
       "      <td>19489.16</td>\n",
       "    </tr>\n",
       "  </tbody>\n",
       "</table>\n",
       "</div>"
      ],
      "text/plain": [
       "   ID_FINCA  VARIEDAD  MODO  TIPO  COLOR  SUPERFICIE  PRODUCCION\n",
       "0       439         9     2     0      0      1.0800     3906.62\n",
       "1       447        40     2     0      1      0.4694     2309.71\n",
       "2       523        32     2     0      1      0.6478     1407.79\n",
       "3       702        59     2     0      1      1.1331     4613.61\n",
       "4       797        59     1     0      1      7.5143    19489.16"
      ]
     },
     "execution_count": 7,
     "metadata": {},
     "output_type": "execute_result"
    }
   ],
   "source": [
    "# Cargamos el dataset que contiene las columnas necesarias para el dataset de entrega\n",
    "df = pd.read_csv(\"UH_2023_TRAIN.txt\", sep=\"|\", decimal=\".\")\n",
    "# Nos quedamos con la campaña 22, para la cual hemos predicho la producción\n",
    "df = df[df.CAMPAÑA == 22].reset_index(inplace=False, drop=True)\n",
    "\n",
    "# Nos quedamos únicamente con las columnas necesarias\n",
    "df_final = df[[\"ID_FINCA\", \"VARIEDAD\", \"MODO\", \"TIPO\", \"COLOR\", \"SUPERFICIE\"]]\n",
    "\n",
    "# Añadimos la predicción como columna de producción\n",
    "df_final.insert(6, \"PRODUCCION\", np.round(y_pred_t, 2))\n",
    "\n",
    "# Ordenamos el dataset\n",
    "df_final = df_final.sort_values(\n",
    "    [\"ID_FINCA\", \"VARIEDAD\", \"MODO\", \"TIPO\", \"COLOR\", \"SUPERFICIE\"]\n",
    ").reset_index(inplace=False, drop=True)\n",
    "\n",
    "# Guardamos el dataset de entrega\n",
    "df_final.to_csv(\"Unity_UH2023.txt\", sep=\"|\", decimal=\".\", index=False, header=False)\n",
    "\n",
    "# Mostramos las primeras observaciones del dataset\n",
    "df_final.head(5)"
   ]
  }
 ],
 "metadata": {
  "kernelspec": {
   "display_name": "Python 3",
   "language": "python",
   "name": "python3"
  },
  "language_info": {
   "codemirror_mode": {
    "name": "ipython",
    "version": 3
   },
   "file_extension": ".py",
   "mimetype": "text/x-python",
   "name": "python",
   "nbconvert_exporter": "python",
   "pygments_lexer": "ipython3",
   "version": "3.9.13"
  },
  "orig_nbformat": 4,
  "vscode": {
   "interpreter": {
    "hash": "f6c8f846148a3e4d140e6ddf63c190cff559dcf260a4a21539f0978f2b58638c"
   }
  }
 },
 "nbformat": 4,
 "nbformat_minor": 2
}
